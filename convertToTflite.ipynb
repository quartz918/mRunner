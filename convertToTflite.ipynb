{
 "cells": [
  {
   "cell_type": "code",
   "execution_count": null,
   "metadata": {},
   "outputs": [],
   "source": [
    "import tensorflow as tf\n",
    "import os\n",
    "from tflite_support import flatbuffers\n",
    "from tflite_support import metadata as md\n",
    "from tflite_support import metadata_schema_py_generated as md_fb"
   ]
  },
  {
   "cell_type": "code",
   "execution_count": null,
   "metadata": {},
   "outputs": [],
   "source": [
    "savedModelPath = # Path to original tensorflow model\n",
    "labelFilePath = # Path to label file\n",
    "outputPath = # output filename; has to end with .tflite\n",
    "imageHeight = # image height prescribed by the model\n",
    "imageWidth = # image width prescribed by the model\n",
    "normalizationMean = # mean for input normalization\n",
    "normalizationStd = # standard deviation for input normalization\n",
    "\n",
    "modelName = # model name\n",
    "modelDescription = # description of the model\n",
    "modelVersion = # model version\n",
    "modelAuthor = # model author\n",
    "modelLicense = # model license"
   ]
  },
  {
   "cell_type": "code",
   "execution_count": null,
   "metadata": {},
   "outputs": [],
   "source": [
    "imported = tf.saved_model.load(savedModelPath)\n",
    "print(imported.signatures)"
   ]
  },
  {
   "cell_type": "code",
   "execution_count": null,
   "metadata": {},
   "outputs": [],
   "source": [
    "concrete_func = imported.signatures['default'] # use the default signature; signature names might differ from model to model\n",
    "concrete_func.inputs[0].set_shape([None,imageWidth,imageHeight,3])\n",
    "converter = tf.lite.TFLiteConverter.from_concrete_functions([concrete_func])\n",
    "converter.experimental_new_converter = True"
   ]
  },
  {
   "cell_type": "code",
   "execution_count": null,
   "metadata": {},
   "outputs": [],
   "source": [
    "lite_model_content = converter.convert()\n",
    "open(outputPath, \"wb\").write(lite_model_content)"
   ]
  },
  {
   "cell_type": "code",
   "execution_count": null,
   "metadata": {},
   "outputs": [],
   "source": [
    "model_meta = md_fb.ModelMetadataT()\n",
    "model_meta.name = modelName\n",
    "model_meta.description = modelDescription\n",
    "model_meta.version = modelVersion\n",
    "model_meta.author = modelAuthor\n",
    "model_meta.license = modelLicense"
   ]
  },
  {
   "cell_type": "code",
   "execution_count": null,
   "metadata": {},
   "outputs": [],
   "source": [
    "input_meta = md_fb.TensorMetadataT()\n",
    "output_meta = md_fb.TensorMetadataT()\n",
    "\n",
    "input_meta.name=\"image\"\n",
    "input_meta.description = (\n",
    "    \"Input image to be classified. The expected image is {0} x {1}, with \"\n",
    "    \"three channels (red, blue, and green) per pixel. Each value in the \"\n",
    "    \"tensor is a single byte between 0 and 255.\".format(imageWidth, imageHeight))\n",
    "input_meta.content = md_fb.ContentT()\n",
    "input_meta.content.contentProperties = md_fb.ImagePropertiesT()\n",
    "input_meta.content.contentProperties.colorSpace = (md_fb.ColorSpaceType.RGB)\n",
    "input_meta.content.contentPropertiesType = (md_fb.ContentProperties.ImageProperties)\n",
    "input_normalization = md_fb.ProcessUnitT()\n",
    "input_normalization.optionsType = (md_fb.ProcessUnitOptions.NormalizationOptions)\n",
    "input_normalization.options = md_fb.NormalizationOptionsT()\n",
    "input_normalization.options.mean = [normalizationMean]\n",
    "input_normalization.options.std = [normalizationStd]\n",
    "input_meta.processUnits = [input_normalization]\n",
    "input_stats = md_fb.StatsT()\n",
    "input_stats.max = [255]\n",
    "input_stats.min = [0]\n",
    "input_meta.stats = input_stats\n",
    "\n",
    "# Creates output info.\n",
    "output_meta = md_fb.TensorMetadataT()\n",
    "output_meta.name = \"probability\"\n",
    "output_meta.description = \"Probabilities of the labels respectively.\"\n",
    "output_meta.content = md_fb.ContentT()\n",
    "output_meta.content.content_properties = md_fb.FeaturePropertiesT()\n",
    "output_meta.content.contentPropertiesType = (md_fb.ContentProperties.FeatureProperties)\n",
    "output_stats = md_fb.StatsT()\n",
    "output_stats.max = [1.0]\n",
    "output_stats.min = [0.0]\n",
    "output_meta.stats = output_stats\n",
    "label_file = md_fb.AssociatedFileT()\n",
    "label_file.name = os.path.basename(labelFilePath)\n",
    "label_file.description = \"Labels for objects that the model can recognize.\"\n",
    "label_file.type = md_fb.AssociatedFileType.TENSOR_AXIS_LABELS\n",
    "output_meta.associatedFiles = [label_file]"
   ]
  },
  {
   "cell_type": "code",
   "execution_count": null,
   "metadata": {},
   "outputs": [],
   "source": [
    "subgraph = md_fb.SubGraphMetadataT()\n",
    "subgraph.inputTensorMetadata = [input_meta]\n",
    "subgraph.outputTensorMetadata = [output_meta]\n",
    "model_meta.subgraphMetadata = [subgraph]\n",
    "\n",
    "b = flatbuffers.Builder(0)\n",
    "b.Finish(model_meta.Pack(b),md.MetadataPopulator.METADATA_FILE_IDENTIFIER)\n",
    "metadata_buf = b.Output()"
   ]
  },
  {
   "cell_type": "code",
   "execution_count": null,
   "metadata": {},
   "outputs": [],
   "source": [
    "populator = md.MetadataPopulator.with_model_file(outputPath)\n",
    "populator.load_metadata_buffer(metadata_buf)\n",
    "populator.load_associated_files([labelFilePath])\n",
    "populator.populate()"
   ]
  },
  {
   "cell_type": "code",
   "execution_count": null,
   "metadata": {},
   "outputs": [],
   "source": []
  },
  {
   "cell_type": "code",
   "execution_count": null,
   "metadata": {},
   "outputs": [],
   "source": []
  }
 ],
 "metadata": {
  "kernelspec": {
   "display_name": "Python 3",
   "language": "python",
   "name": "python3"
  },
  "language_info": {
   "codemirror_mode": {
    "name": "ipython",
    "version": 3
   },
   "file_extension": ".py",
   "mimetype": "text/x-python",
   "name": "python",
   "nbconvert_exporter": "python",
   "pygments_lexer": "ipython3",
   "version": "3.7.7"
  }
 },
 "nbformat": 4,
 "nbformat_minor": 4
}
